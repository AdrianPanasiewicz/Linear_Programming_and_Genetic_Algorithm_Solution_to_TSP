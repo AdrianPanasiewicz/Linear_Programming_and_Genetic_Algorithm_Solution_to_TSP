{
 "cells": [
  {
   "cell_type": "markdown",
   "id": "328c20258119ebc2",
   "metadata": {},
   "source": [
    "# Euklidesowy problem komiwojażera\n",
    "Techniki algorytmiczne\n",
    "\n",
    "Autorzy: Adrian Panasiewicz & Piotr Gdula\n",
    "\n",
    "Data: 25.04.2025 r.\n",
    "\n",
    "Prowadzący: mgr Piotr Stąpor\n",
    "\n"
   ]
  },
  {
   "cell_type": "code",
   "execution_count": 675,
   "id": "99db0449",
   "metadata": {},
   "outputs": [],
   "source": [
    "import pulp as pp\n",
    "import pandas as pd\n",
    "import numpy as np\n",
    "import scipy.spatial as sp\n",
    "import matplotlib.pyplot as plt\n",
    "import os, psutil\n",
    "import math\n",
    "import time\n",
    "import itertools\n",
    "import random"
   ]
  },
  {
   "cell_type": "markdown",
   "id": "55bd7490",
   "metadata": {},
   "source": [
    "### 1. Generator egzemplarzy danych dla problemu przy podanym jego rozmiarze, (2 x 1 pkt.)"
   ]
  },
  {
   "cell_type": "code",
   "execution_count": 676,
   "id": "13c9cc6d",
   "metadata": {},
   "outputs": [],
   "source": [
    "def generate_locations(n, dimensions):\n",
    "    \"\"\"Wygenerowanie egzemplarza danych o wielkości danych (n) oraz wymiarze (dimensions)\"\"\"\n",
    "    x = {}\n",
    "    for i in range(dimensions):\n",
    "        x.update({f'x_{i}': np.random.randint(0,1000, n)})\n",
    "    df =  pd.DataFrame(x)\n",
    "    distances = pd.DataFrame(sp.distance_matrix(df[[*df.columns]].values, df[[*df.columns]].values), index=df.index, columns=df.index)\n",
    "    return df, distances"
   ]
  },
  {
   "cell_type": "markdown",
   "id": "dd96368e",
   "metadata": {},
   "source": [
    "### 2. Funkcje pomocnicze"
   ]
  },
  {
   "cell_type": "markdown",
   "id": "573ad167",
   "metadata": {},
   "source": [
    "### Wyświetlenie mapy lokalizacji"
   ]
  },
  {
   "cell_type": "code",
   "execution_count": 677,
   "id": "48471f17",
   "metadata": {},
   "outputs": [],
   "source": [
    "def plot_locations(df):\n",
    "    \"\"\"Wykreślenie położeń miast (df) na wykresie\"\"\"\n",
    "    fig = plt.figure(figsize=(5,5))\n",
    "    dimensions = len(df.columns)\n",
    "\n",
    "    # Ustawienie parametrów wykresu w przypadku gdy egzemplarz danuch jest dwuwymiarowy\n",
    "    if dimensions == 2:\n",
    "        ax = fig.add_subplot()\n",
    "        ax.set(\n",
    "            xlabel='x_0',\n",
    "            ylabel='x_1',\n",
    "            xlim = [-100, 1100],\n",
    "            ylim = [-100, 1100]\n",
    "        )\n",
    "\n",
    "    # Ustawienie parametrów wykresu w przypadku gdy egzemplarz danych jest trójwymiarowy\n",
    "    elif dimensions == 3:\n",
    "        ax = fig.add_subplot(projection = '3d')\n",
    "        ax.set(\n",
    "            xlabel='x_0',\n",
    "            ylabel='x_1',\n",
    "            zlabel='x_2',\n",
    "            xlim = [-100, 1100],\n",
    "            ylim = [-100, 1100],\n",
    "            zlim = [-100, 1100]\n",
    "        )\n",
    "        ax.set_box_aspect(None, zoom=0.9)\n",
    "\n",
    "    # Pominięcie wykreślania wykresu przypadku gdy egzemplarz danych ma więcej niż trzy wymiary\n",
    "    else:\n",
    "        return\n",
    "    \n",
    "    # Naniesienie miast na wykres\n",
    "    for i, row in df.iterrows():\n",
    "        if i == 0:\n",
    "            print(*(row[f'x_{j}'] for j in range(len(row))))\n",
    "            ax.scatter(*(row[f'x_{j}'] for j in range(len(row))), c='r')\n",
    "            ax.text(*(row[f'x_{j}']+10 for j in range(len(row))), 'Start')\n",
    "        else:\n",
    "            ax.scatter(*(row[f'x_{j}'] for j in range(len(row))), c='black')\n",
    "            ax.text(*(row[f'x_{j}']+10 for j in range(len(row))), f'{i}')\n",
    "\n",
    "    ax.grid()\n",
    "    ax.set_title('Mapa lokalizacji')\n",
    "    return ax"
   ]
  },
  {
   "cell_type": "markdown",
   "id": "9a7b1018",
   "metadata": {},
   "source": [
    "### Funkcja do wyświetlenie ścieżki"
   ]
  },
  {
   "cell_type": "code",
   "execution_count": 678,
   "id": "c6560843",
   "metadata": {},
   "outputs": [],
   "source": [
    "def plot_route(df, route):\n",
    "    \"\"\"Wykreślenie ścieżki komiwojażera (route) dla danego położeń miast (df)\"\"\"\n",
    "\n",
    "    # Wykreślenie ścieżki dla dwuwymiarowego egzemplarza danych\n",
    "    if len(df.columns) == 2:\n",
    "        ax = plot_locations(df)\n",
    "        n = len(df)\n",
    "        \n",
    "        arrowprops = dict(arrowstyle='->', connectionstyle='arc3', edgecolor='blue')\n",
    "        for i, j in route:\n",
    "            plt.annotate('', xy=[df.iloc[j]['x_0'], df.iloc[j]['x_1']], xytext=[df.iloc[i]['x_0'], df.iloc[i]['x_1']], arrowprops=arrowprops)\n",
    "\n",
    "    # Wykreślenie ścieżki dla trójwymiarowego egzemplarza danych\n",
    "    elif len(df.columns) == 3:\n",
    "        ax = plot_locations(df)\n",
    "        n = len(df)\n",
    "    \n",
    "        for i, j in route:\n",
    "            lines = []\n",
    "            arrow_heads = []\n",
    "            for var_name in df.columns:\n",
    "                start = [df.iloc[i][col] for col in df.columns]\n",
    "                end = [df.iloc[j][col] for col in df.columns]\n",
    "                direction = [e - s for s, e in zip(start, end)]\n",
    "                ax.quiver(*start, *direction, arrow_length_ratio=0.15, color='blue')\n",
    "     \n",
    "    # Pominięcie wykreślania ścieżki, gdy egzemplarz danych ma więcej niż trzy wymiarów \n",
    "    else:\n",
    "        return\n",
    "\n",
    "    plt.show()"
   ]
  },
  {
   "cell_type": "markdown",
   "id": "a221c151",
   "metadata": {},
   "source": [
    "Zapisanie danych do excela"
   ]
  },
  {
   "cell_type": "code",
   "execution_count": 679,
   "id": "bbde5596",
   "metadata": {},
   "outputs": [],
   "source": [
    "def save_to_excel(solutions_df, file_path):\n",
    "    \"\"\"Zapisanie danych do excela\"\"\"\n",
    "    if os.path.exists(file_path):\n",
    "        base, ext = os.path.splitext(file_path)\n",
    "        counter = 1\n",
    "        while True:\n",
    "            new_file_path = f\"{base}({counter}){ext}\"\n",
    "            if not os.path.exists(new_file_path):\n",
    "                break\n",
    "            counter += 1\n",
    "        solutions_df.to_excel(new_file_path, index=False)\n",
    "    else:\n",
    "        solutions_df.to_excel(file_path, index=False)"
   ]
  },
  {
   "cell_type": "markdown",
   "id": "b9f30215",
   "metadata": {},
   "source": [
    "Funkcja do sprawdzenia użycia pamięci przez proces w python"
   ]
  },
  {
   "cell_type": "code",
   "execution_count": 680,
   "id": "bc95a595",
   "metadata": {},
   "outputs": [],
   "source": [
    "def get_memory_info():\n",
    "    pid = os.getpid()\n",
    "    ps = psutil.Process(pid)\n",
    "    memory_usage = ps.memory_info().rss\n",
    "    return memory_usage"
   ]
  },
  {
   "cell_type": "markdown",
   "id": "d80bc2a4",
   "metadata": {},
   "source": [
    "## 3. Dokładne algorytmy rozwiązujące problem komiwojażera (6 pkt.)"
   ]
  },
  {
   "cell_type": "markdown",
   "id": "d36e7cee",
   "metadata": {},
   "source": [
    "### 3.1. Metoda brute-force rozwiązująca problem komiwojażera"
   ]
  },
  {
   "cell_type": "markdown",
   "id": "4e323404",
   "metadata": {},
   "source": [
    "3.1.1. Funkcja generująca wszystkie unikalne permutacje ścieżek, pomijając warianty symetryczne "
   ]
  },
  {
   "cell_type": "code",
   "execution_count": 681,
   "id": "d43f5e6c",
   "metadata": {},
   "outputs": [],
   "source": [
    "def get_filtered_permutations(list_of_choices):\n",
    "    \"\"\"Funkcja generująca wszystkie unikalne permutacje ścieżek, pomijając warianty symetryczne \n",
    "    na podstawie możliwych miast, do których komiwojażer może się udać (list_of_choices)\"\"\"\n",
    "    # Znalezienie wszystkich permutacji\n",
    "    all_perms = set(itertools.permutations(list_of_choices))\n",
    "\n",
    "    # Usunięcie nadmiarowych permutacji\n",
    "    filtered_perms = set()\n",
    "    for perm in all_perms:\n",
    "        if tuple(reversed(perm)) not in filtered_perms:\n",
    "            filtered_perms.add(perm)\n",
    "    \n",
    "    return filtered_perms"
   ]
  },
  {
   "cell_type": "markdown",
   "id": "2fcef355",
   "metadata": {},
   "source": [
    "3.1.2. Funkcja rozwiązujaca problem metodą brute-force"
   ]
  },
  {
   "cell_type": "code",
   "execution_count": 682,
   "id": "fe5210e9",
   "metadata": {},
   "outputs": [],
   "source": [
    "def brute_force(distance_tensor):\n",
    "    \"\"\"Rozwiązanie problemu komiwojażera metodą brute-force na podstawie tensora odległości (distance_tensor)\"\"\"\n",
    "    # Przygotowanie zmiennych do rozwiązania problemu komiwojażera\n",
    "    t_start = time.perf_counter()\n",
    "    n = len(distance_tensor.columns)\n",
    "    choices = range(1,n)\n",
    "    filtered_perms = get_filtered_permutations(choices)\n",
    "    best_paths = None\n",
    "    best_distance = -1\n",
    "\n",
    "    # Szukanie najkrótszej ścieżki na podstawie możliwych permutacji\n",
    "    for path in filtered_perms:\n",
    "        total_distance = 0\n",
    "        path = [0] + list(path) + [0]\n",
    "        for i in range(len(path)-1):\n",
    "            from_city = path[i]\n",
    "            to_city = path[i+1]\n",
    "            total_distance  += distance_tensor.loc[from_city,to_city]\n",
    "        if total_distance < best_distance or best_distance == -1:\n",
    "            best_distance = total_distance\n",
    "            best_paths = path\n",
    "\n",
    "    # Sformatowanie ścieżki, aby ułatwić jej wykreślenie\n",
    "    formatted_best_path = []\n",
    "    for i in range(len(best_paths)-1):\n",
    "        formatted_best_path.append((best_paths[i],best_paths[i+1]))\n",
    "\n",
    "    # Sprawdzenie obciążenia pamięci\n",
    "    memory_usage = get_memory_info()\n",
    "\n",
    "    # Sprawdzenie czasu potrzebnego do wykonannia funkcji brute_force\n",
    "    duration = time.perf_counter() - t_start\n",
    "\n",
    "    return formatted_best_path, best_distance, duration, memory_usage"
   ]
  },
  {
   "cell_type": "markdown",
   "id": "c8a2368d",
   "metadata": {},
   "source": [
    "### 3.2. Wykorzystanie gotowej biblioteki impementującej linear programming do rozwiązania problemu"
   ]
  },
  {
   "cell_type": "markdown",
   "id": "f391bfa3",
   "metadata": {},
   "source": [
    "Definicja Miller–Tucker–Zemlin euklidesowego problemu komiwojażera"
   ]
  },
  {
   "cell_type": "code",
   "execution_count": 683,
   "id": "7f2d6ece839e3ab0",
   "metadata": {},
   "outputs": [],
   "source": [
    "def integer_programming(distance_tensor):\n",
    "    \"\"\"Rozwiązanie problemu komiwojażera metodą linear_programming na podstawie tensora odległości (distance_tensor)\"\"\"\n",
    "    # Przygotowanie zmiennych do rozwiązania problemu komiwojażera\n",
    "    t_start = time.perf_counter()\n",
    "    n = len(distance_tensor.columns)\n",
    "    model = pp.LpProblem(\"Euklidesowy_problem_komiwojażera\", pp.LpMinimize)\n",
    "\n",
    "    # Stworzenie zmiennych oraz trasy do rozwiązania metody linear programming\n",
    "    variables = pp.LpVariable.dicts('x', ((i,j) for i in range(n) for j in range(n)), lowBound=0, upBound=1, cat='Binary')\n",
    "    path = pp.LpVariable.dicts('path', (i for i in range(n)), lowBound=1, upBound=n, cat='Integer')\n",
    "\n",
    "    # Definicja problemu do zoptymalizowania \n",
    "    model += pp.lpSum(distance_tensor[i][j] * variables[i, j] for i in range(n) for j in range(n))\n",
    "\n",
    "    # Zdefiniowanie ograniczeń - do miasta można tylko raz wejść i wyjść\n",
    "    for i in range(n):\n",
    "        model += variables[i,i] == 0\n",
    "        model += pp.lpSum(variables[i, j] for j in range(n)) == 1\n",
    "        model += pp.lpSum(variables[j, i] for j in range(n)) == 1\n",
    "\n",
    "    # Zdefiniowanie ograniczeń - nie można tworzyć podścieżek (subtours)\n",
    "    for i in range(n):\n",
    "        for j in range(1,n):\n",
    "            if i != j and (i != 0 and j != 0):\n",
    "                model += path[i] - path[j] <= n * (1 - variables[i, j]) - 1\n",
    "                \n",
    "    # Rozwiązanie problemu\n",
    "    status = model.solve()\n",
    "    status, pp.LpStatus[status], pp.value(model.objective)\n",
    "    routes = [(i, j) for i in range(n) for j in range(n) if pp.value(variables[i, j]) == 1]\n",
    "\n",
    "    # Sprawdzenie obciążenia pamięci\n",
    "    memory_usage = get_memory_info()\n",
    "\n",
    "    # Sprawdzenie czasu potrzebnego do wykonannia funkcji brute_force\n",
    "    duration = time.perf_counter() - t_start\n",
    "\n",
    "    return routes, pp.value(model.objective), duration, memory_usage"
   ]
  },
  {
   "cell_type": "markdown",
   "id": "dfa148a6",
   "metadata": {},
   "source": [
    "# 4. Algorytm genetyczny (aproksymacyjny) rozwiązujący problem TSP (6 pkt.)"
   ]
  },
  {
   "cell_type": "markdown",
   "id": "ff8fe4cc",
   "metadata": {},
   "source": [
    "Definicja klasy implementującej metody do rozwiązania problemu komiwojażera za pomocą algorytmu genetycznego"
   ]
  },
  {
   "cell_type": "code",
   "execution_count": 684,
   "id": "44be3b77",
   "metadata": {},
   "outputs": [],
   "source": [
    "class Population:\n",
    "    def __init__(self, distances):\n",
    "         self.distances = distances\n",
    "         self.dimensions = len(distances.columns)\n",
    "         self.n = len(distances)\n",
    "         self.population_size = 50 + 2*self.n\n",
    "         self.specimens = self.generate_random_population()\n",
    "         self.mutation_probability = 1/(5*self.population_size)\n",
    "\n",
    "    def calculate_distance(self, path):\n",
    "        \"\"\"Metoda do obliczania drogi w danej ścieżce\"\"\"\n",
    "        total_distance = 0\n",
    "        path = [0] + path + [0]\n",
    "        for i in range(len(path)-1):\n",
    "            from_city = path[i]\n",
    "            to_city = path[i+1]\n",
    "            total_distance += self.distances.loc[from_city,to_city]\n",
    "        return total_distance\n",
    "\n",
    "    def generate_random_population(self):\n",
    "        \"\"\"Metoda do generowania losowej populacji\"\"\"\n",
    "        pops = []\n",
    "        for i in range(self.population_size):\n",
    "            cities = list(range(1,self.n))\n",
    "            specimen = []\n",
    "            while len(cities) > 0:\n",
    "                city = random.choice(cities)\n",
    "                cities.remove(city)\n",
    "                specimen.append(city)\n",
    "            pops.append([specimen, self.calculate_distance(specimen)])\n",
    "        return pops\n",
    "        \n",
    "    def select_the_most_fit(self):\n",
    "        \"\"\"Metoda do wybrania z populacji losowo lepszej części próbek\"\"\"\n",
    "        selected_population = []\n",
    "        for i in range(math.floor(len(self.specimens)/2)):\n",
    "            specimen1 = random.choice(self.specimens)\n",
    "            self.specimens.remove(specimen1)\n",
    "            specimen2 = random.choice(self.specimens)\n",
    "            self.specimens.remove(specimen2)\n",
    "            if specimen1[1] < specimen2[1]:\n",
    "                selected_population.append(specimen1)\n",
    "            else:\n",
    "                selected_population.append(specimen2)\n",
    "        self.specimens = selected_population\n",
    "\n",
    "    @staticmethod\n",
    "    def crossover(parent1_chromosome, parent2):\n",
    "        \"\"\"Metoda do dzielenia chromosomów rodziców\"\"\"\n",
    "        crossover_point = random.choice(list(range(len(parent1_chromosome))))\n",
    "        parent1_chromosome = parent1_chromosome[crossover_point::]\n",
    "        parent2_chromosome = []\n",
    "        for i in range(len(parent2)):\n",
    "            if parent2[i] not in parent1_chromosome:\n",
    "                parent2_chromosome.append(parent2[i])\n",
    "        child = parent2_chromosome + parent1_chromosome\n",
    "        return child\n",
    "\n",
    "\n",
    "    def mutation(self, child):\n",
    "        \"\"\"Metoda do implementacji mutacji\"\"\"\n",
    "        for i in range(len(child)):\n",
    "            if random.uniform(0,1) < self.mutation_probability:\n",
    "                mutated_value = random.choice(range(len(child)))\n",
    "                for j in range(len(child)):\n",
    "                    if mutated_value == child[j]:\n",
    "                        child[j] = child[i]\n",
    "                        child[i] = mutated_value\n",
    "                        break\n",
    "        return child\n",
    "    \n",
    "    def breed_population(self):\n",
    "        \"\"\"Metoda do odnawiania populacji\"\"\"\n",
    "        children = []\n",
    "        for i in range(len(self.specimens)):\n",
    "            parent1 = random.choice(self.specimens)\n",
    "            parent2 = random.choice(self.specimens)\n",
    "            child = self.crossover(parent1[0], parent2[0])\n",
    "            child = self.mutation(child)\n",
    "            children.append([child, self.calculate_distance(child)])\n",
    "        self.specimens.extend(children)\n",
    "\n",
    "    def find_the_best(self):\n",
    "        \"\"\"Metoda do znalezienia najlepszego rozwiąznia z populacji\"\"\"\n",
    "        best_specimen = [-1,-1]\n",
    "        for specimen in self.specimens:\n",
    "            if best_specimen[1] == -1 or specimen[1] < best_specimen[1]:\n",
    "                best_specimen = specimen\n",
    "        return best_specimen\n",
    "\n",
    "    def epoch(self):\n",
    "        \"\"\"Metoda do symulacji epoki\"\"\"\n",
    "        self.select_the_most_fit()\n",
    "        self.breed_population()"
   ]
  },
  {
   "cell_type": "markdown",
   "id": "d39c6885",
   "metadata": {},
   "source": [
    "Algorytm genetyczny do rozwiązania problemu komiwojażera"
   ]
  },
  {
   "cell_type": "code",
   "execution_count": 685,
   "id": "d65c3c0e",
   "metadata": {},
   "outputs": [],
   "source": [
    "def genetic_algorithm(distance_tensor):\n",
    "    \"\"\"Rozwiązanie problemu komiwojażera metodą algorytmu genetycznego na podstawie tensora odległości (distance_tensor)\"\"\"\n",
    "    # Pobranie czasu przed rozpoczęciem algorytmu\n",
    "    t_start = time.perf_counter()\n",
    "\n",
    "    # Symulacja populacji komiwojażerów\n",
    "    salesman_population = Population(distances=distance_tensor)\n",
    "    for epoch_value in range(100):\n",
    "        salesman_population.epoch()\n",
    "    solution = salesman_population.find_the_best()\n",
    "    path = [0] + solution[0] + [0]\n",
    "    distance = solution[1]\n",
    "\n",
    "    # Sformatowanie ścieżki, aby ułatwić jej wykreślenie\n",
    "    formatted_path = []\n",
    "    for i in range(len(path)-1):\n",
    "        formatted_path.append((path[i],path[i+1]))\n",
    "\n",
    "    # Sprawdzenie obciążenia pamięci\n",
    "    memory_usage = get_memory_info()\n",
    "\n",
    "    # Sprawdzenie czasu potrzebnego do wykonannia funkcji brute_force\n",
    "    duration = time.perf_counter() - t_start\n",
    "\n",
    "    return formatted_path, distance, duration, memory_usage"
   ]
  },
  {
   "cell_type": "markdown",
   "id": "fec92ff432fadc71",
   "metadata": {},
   "source": [
    "# 5. Przetestowanie programu dla danych wejściowych o różnym rozmiarze"
   ]
  },
  {
   "cell_type": "markdown",
   "id": "3749b609",
   "metadata": {},
   "source": [
    "Porównanie wszystkich metod jednocześnie"
   ]
  },
  {
   "cell_type": "code",
   "execution_count": null,
   "id": "5ca13323",
   "metadata": {},
   "outputs": [
    {
     "name": "stderr",
     "output_type": "stream",
     "text": [
      "C:\\Users\\adria\\AppData\\Local\\Temp\\ipykernel_2996\\1161889462.py:36: FutureWarning: The behavior of DataFrame concatenation with empty or all-NA entries is deprecated. In a future version, this will no longer exclude empty or all-NA columns when determining the result dtypes. To retain the old behavior, exclude the relevant entries before the concat operation.\n",
      "  solutions_df = pd.concat([solutions_df, pd.DataFrame([data])], ignore_index = True)\n"
     ]
    }
   ],
   "source": [
    "n = 10\n",
    "dimensions = 2\n",
    "# BF - Brute force, LP - Linear programming, GA - Genetic algorithm\n",
    "solutions_df = pd.DataFrame(columns=[\"Wielkość egzemplarza\", \n",
    "                                     \"Wymiar egzemplarza\", \n",
    "                                     \"Optymalna droga BF\", \n",
    "                                     \"Czas potrzeby na wykonanie metody BF [s]\", \n",
    "                                     \"Pamięć RAM wykorzystana na wykonanie metody BF [Byte]\", \n",
    "                                     \"Optymalna droga LP\", \n",
    "                                     \"Czas na wykonanie metody LP [S]\", \n",
    "                                     \"Pamięć RAM wykorzystana na wykonanie metody LP [Byte]\",\n",
    "                                     \"Optymalna droga GA\", \n",
    "                                     \"Czas na wykonanie metody GA [S]\", \n",
    "                                     \"Pamięć RAM wykorzystana na wykonanie metody GA [Byte]\",\n",
    "                                     \"Jakość rozwiązania aproksymacyjnego [%]\"])\n",
    "\n",
    "for i in range(2,n+1):\n",
    "    df, distance_tensor = generate_locations(i,dimensions)\n",
    "    sol1 = brute_force(distance_tensor)\n",
    "    sol2 = integer_programming(distance_tensor)\n",
    "    sol3 = genetic_algorithm(distance_tensor)\n",
    "    data = {\n",
    "        \"Wielkość egzemplarza\": i,\n",
    "        \"Wymiar egzemplarza\": dimensions,\n",
    "        \"Optymalna droga BF\": sol1[1],\n",
    "        \"Czas potrzeby na wykonanie metody BF [s]\": sol1[2],\n",
    "        \"Pamięć RAM wykorzystana na wykonanie metody BF [Byte]\": sol1[3],\n",
    "        \"Optymalna droga LP\": sol2[1],\n",
    "        \"Czas na wykonanie metody LP [S]\": sol2[2],\n",
    "        \"Pamięć RAM wykorzystana na wykonanie metody LP [Byte]\": sol2[3],\n",
    "        \"Optymalna droga GA\": sol3[1],\n",
    "        \"Czas na wykonanie metody GA [S]\": sol3[2],\n",
    "        \"Pamięć RAM wykorzystana na wykonanie metody GA [Byte]\": sol3[3],\n",
    "        \"Jakość rozwiązania aproksymacyjnego [%]\": sol1[1]/sol3[1]*100\n",
    "    }\n",
    "    solutions_df = pd.concat([solutions_df, pd.DataFrame([data])], ignore_index = True)\n",
    "\n",
    "file_path_all = r\"C:\\Users\\adria\\Desktop\\TA_all.xlsx\"\n",
    "save_to_excel(solutions_df, file_path_all)\n",
    "\n",
    "plot_route(df,sol1[0])\n",
    "plot_route(df,sol3[0])"
   ]
  },
  {
   "cell_type": "markdown",
   "id": "c8b1121b",
   "metadata": {},
   "source": [
    "Przetestowanie algorytmu aproksymacyjnego dla większych egzemplarzy wejściowych"
   ]
  },
  {
   "cell_type": "code",
   "execution_count": null,
   "id": "5424cb20",
   "metadata": {},
   "outputs": [
    {
     "name": "stdout",
     "output_type": "stream",
     "text": [
      "2\n",
      "3\n",
      "4\n",
      "5\n",
      "6\n",
      "7\n",
      "8\n",
      "9\n",
      "10\n",
      "11\n",
      "12\n",
      "13\n",
      "14\n",
      "15\n",
      "16\n",
      "17\n",
      "18\n",
      "19\n",
      "20\n",
      "21\n",
      "22\n",
      "23\n",
      "24\n",
      "25\n",
      "26\n",
      "27\n",
      "28\n",
      "29\n",
      "30\n",
      "981 861\n"
     ]
    },
    {
     "data": {
      "image/png": "[encoded data removed]",
      "text/plain": [
       "<Figure size 500x500 with 1 Axes>"
      ]
     },
     "metadata": {},
     "output_type": "display_data"
    }
   ],
   "source": [
    "n = 30\n",
    "dimensions = 2\n",
    "\n",
    "aprox_df = pd.DataFrame(columns=[\"Wielkość egzemplarza\", \n",
    "                                     \"Wymiar egzemplarza\", \n",
    "                                     \"Optymalna droga BF\", \n",
    "                                     \"Pamięć RAM wykorzystana na wykonanie metody GA [Byte]\", \n",
    "                                     \"Optymalna droga GA\", \"Czas na wykonanie metody GA [S]\", \n",
    "                                     \"Pamięć RAM wykorzystana na wykonanie metody GA [Byte]\",])\n",
    "\n",
    "for i in range(2,n+1):\n",
    "    df, distance_tensor = generate_locations(i,dimensions)\n",
    "    sol = genetic_algorithm(distance_tensor)\n",
    "    data = {\n",
    "        \"Wielkość egzemplarza\": i,\n",
    "        \"Wymiar egzemplarza\": dimensions,\n",
    "        \"Optymalna droga GA\": sol[1],\n",
    "        \"Czas na wykonanie metody GA [S]\": sol[2],\n",
    "        \"Pamięć RAM wykorzystana na wykonanie metody GA [Byte]\": sol[3]\n",
    "    }\n",
    "    solutions_df = pd.concat([solutions_df, pd.DataFrame([data])], ignore_index = True)\n",
    "\n",
    "\n",
    "file_path_aprox = r\"C:\\Users\\adria\\Desktop\\TA_aprox.xlsx\"\n",
    "save_to_excel(aprox_df, file_path_aprox)\n",
    "plot_route(df,sol[0])"
   ]
  }
 ],
 "metadata": {
  "kernelspec": {
   "display_name": "Python 3",
   "language": "python",
   "name": "python3"
  },
  "language_info": {
   "codemirror_mode": {
    "name": "ipython",
    "version": 3
   },
   "file_extension": ".py",
   "mimetype": "text/x-python",
   "name": "python",
   "nbconvert_exporter": "python",
   "pygments_lexer": "ipython3",
   "version": "3.9.13"
  }
 },
 "nbformat": 4,
 "nbformat_minor": 5
}
